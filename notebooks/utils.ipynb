{
 "cells": [
  {
   "cell_type": "code",
   "execution_count": 28,
   "id": "7f83e390-f5fc-46a5-bd94-67b3ad72f62c",
   "metadata": {},
   "outputs": [],
   "source": [
    "import jax\n",
    "import jax.numpy as jnp\n",
    "import numpy as np\n",
    "import matplotlib.pyplot as plt\n",
    "import matplotlib as mpl"
   ]
  },
  {
   "cell_type": "code",
   "execution_count": 18,
   "id": "318502a2-6abf-44ff-b13b-d14e365c89cc",
   "metadata": {},
   "outputs": [
    {
     "name": "stdout",
     "output_type": "stream",
     "text": [
      "('0.23, 0.299, 0.754', '0.706, 0.0156, 0.15')\n"
     ]
    }
   ],
   "source": [
    "# rgb color values for latex\n",
    "\n",
    "# coolwarm\n",
    "color_mapper = mpl.cm.ScalarMappable(cmap='coolwarm')\n",
    "colors = color_mapper.to_rgba((0, 1))\n",
    "print(tuple(', '.join(f'{x:.3}' for x in y[:3]) for y in colors))"
   ]
  },
  {
   "cell_type": "code",
   "execution_count": 163,
   "id": "2c3e79ba-1414-4007-9224-3d6313839298",
   "metadata": {},
   "outputs": [
    {
     "name": "stdout",
     "output_type": "stream",
     "text": [
      "0.122, 0.467, 0.706\n",
      "1.0, 0.498, 0.0549\n",
      "0.173, 0.627, 0.173\n",
      "0.839, 0.153, 0.157\n",
      "0.58, 0.404, 0.741\n",
      "0.549, 0.337, 0.294\n",
      "0.89, 0.467, 0.761\n",
      "0.498, 0.498, 0.498\n",
      "0.737, 0.741, 0.133\n",
      "0.0902, 0.745, 0.812\n"
     ]
    },
    {
     "data": {
      "text/plain": [
       "<matplotlib.collections.PathCollection at 0x1771a7d90>"
      ]
     },
     "execution_count": 163,
     "metadata": {},
     "output_type": "execute_result"
    },
    {
     "data": {
      "image/png": "[encoded data removed]",
      "text/plain": [
       "<Figure size 640x480 with 1 Axes>"
      ]
     },
     "metadata": {},
     "output_type": "display_data"
    }
   ],
   "source": [
    "# tab10\n",
    "cmap = mpl.cm.ScalarMappable(cmap='tab10')\n",
    "colors = cmap.to_rgba(range(10))\n",
    "for color in colors:\n",
    "    print(', '.join(f'{x:.3}' for x in color[:3]))\n",
    "\n",
    "x = range(len(colors))\n",
    "y = range(len(colors))\n",
    "plt.scatter(x, y, c=colors)"
   ]
  },
  {
   "cell_type": "code",
   "execution_count": 161,
   "id": "b8799020-9183-4801-a22f-d15dd439ae95",
   "metadata": {},
   "outputs": [],
   "source": [
    "cmap = plt.get_cmap('Set2')\n",
    "colors = cmap(np.linspace(0, 1, cmap.N))"
   ]
  },
  {
   "cell_type": "code",
   "execution_count": 149,
   "id": "3a81d030-fb3b-45cb-88ca-84f6c14bff74",
   "metadata": {},
   "outputs": [
    {
     "name": "stdout",
     "output_type": "stream",
     "text": [
      "(0.5019607843137255, 0.5019607843137255, 0.5019607843137255, 1.0)\n"
     ]
    }
   ],
   "source": [
    "from matplotlib import colors\n",
    "print(colors.to_rgba('gray'))\n",
    "# print(tuple(', '.join(f'{x:.3}' for x in colors.to_rgba('gray')[:3])))"
   ]
  },
  {
   "cell_type": "code",
   "execution_count": 131,
   "id": "d2803df5-d67a-455c-9f6c-dc995cdb18ca",
   "metadata": {},
   "outputs": [
    {
     "data": {
      "text/plain": [
       "array([3.8420898e-09, 1.0000000e+00, 1.0000000e+00, 1.0000000e+00,\n",
       "       1.0000000e+00, 1.0000000e+00, 1.0000000e+00, 1.0000000e+00,\n",
       "       1.0000000e+00, 1.0000000e+00], dtype=float32)"
      ]
     },
     "execution_count": 131,
     "metadata": {},
     "output_type": "execute_result"
    }
   ],
   "source": [
    "np.linalg.eig(M)[0]"
   ]
  },
  {
   "cell_type": "code",
   "execution_count": 132,
   "id": "a0734d26-7f08-4b83-b2f2-f61c9c8e88c5",
   "metadata": {},
   "outputs": [
    {
     "data": {
      "text/plain": [
       "array([1.2873174e+00, 1.0000000e+00, 1.0000000e+00, 1.0000000e+00,\n",
       "       1.0000000e+00, 1.0000000e+00, 1.0000000e+00, 1.0000000e+00,\n",
       "       1.0000000e+00, 2.9845708e-09], dtype=float32)"
      ]
     },
     "execution_count": 132,
     "metadata": {},
     "output_type": "execute_result"
    }
   ],
   "source": [
    "np.linalg.svd(M)[1]"
   ]
  },
  {
   "cell_type": "code",
   "execution_count": 134,
   "id": "8d102c7b-2956-49a4-9f9e-333e1c565702",
   "metadata": {},
   "outputs": [
    {
     "data": {
      "text/plain": [
       "Array(1.2873174, dtype=float32)"
      ]
     },
     "execution_count": 134,
     "metadata": {},
     "output_type": "execute_result"
    }
   ],
   "source": [
    "jnp.sqrt(K * jnp.dot(v, v))"
   ]
  },
  {
   "cell_type": "code",
   "execution_count": 136,
   "id": "c85ce781-e19e-4634-9d35-035ce1cba44a",
   "metadata": {},
   "outputs": [
    {
     "data": {
      "text/plain": [
       "Array(0.2525605, dtype=float32)"
      ]
     },
     "execution_count": 136,
     "metadata": {},
     "output_type": "execute_result"
    }
   ],
   "source": [
    "jnp.log(jnp.sqrt(K * jnp.dot(v, v)))"
   ]
  },
  {
   "cell_type": "code",
   "execution_count": 142,
   "id": "49b32bbb-2f70-4ac4-bfa4-d3dd7ccdf208",
   "metadata": {},
   "outputs": [
    {
     "data": {
      "text/plain": [
       "Array(0.2525605, dtype=float32)"
      ]
     },
     "execution_count": 142,
     "metadata": {},
     "output_type": "execute_result"
    }
   ],
   "source": [
    "0.5 * (jnp.log(K) + jax.scipy.special.logsumexp(2*jnp.log(v)))"
   ]
  },
  {
   "cell_type": "code",
   "execution_count": 143,
   "id": "9be8f065-f06f-4db7-a882-3faaf60cd272",
   "metadata": {},
   "outputs": [
    {
     "data": {
      "text/plain": [
       "Array(-29.423162, dtype=float32)"
      ]
     },
     "execution_count": 143,
     "metadata": {},
     "output_type": "execute_result"
    }
   ],
   "source": [
    "jnp.log(v).sum()"
   ]
  },
  {
   "cell_type": "code",
   "execution_count": null,
   "id": "a94b2ba2-11a8-42c1-9883-c785fe5ad50a",
   "metadata": {},
   "outputs": [],
   "source": []
  }
 ],
 "metadata": {
  "kernelspec": {
   "display_name": "Python 3 (ipykernel)",
   "language": "python",
   "name": "python3"
  },
  "language_info": {
   "codemirror_mode": {
    "name": "ipython",
    "version": 3
   },
   "file_extension": ".py",
   "mimetype": "text/x-python",
   "name": "python",
   "nbconvert_exporter": "python",
   "pygments_lexer": "ipython3",
   "version": "3.10.11"
  }
 },
 "nbformat": 4,
 "nbformat_minor": 5
}
